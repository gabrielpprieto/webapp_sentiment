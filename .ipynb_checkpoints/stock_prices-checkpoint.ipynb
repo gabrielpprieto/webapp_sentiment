{
 "cells": [
  {
   "cell_type": "code",
   "execution_count": 1,
   "metadata": {},
   "outputs": [],
   "source": [
    "import yfinance as yf"
   ]
  },
  {
   "cell_type": "code",
   "execution_count": 2,
   "metadata": {},
   "outputs": [
    {
     "name": "stdout",
     "output_type": "stream",
     "text": [
      "[*********************100%***********************]  1 of 1 completed\n"
     ]
    }
   ],
   "source": [
    "prices = yf.download(  # or pdr.get_data_yahoo(...\n",
    "         # tickers list or string as well\n",
    "         tickers = \"TSLA\",\n",
    "\n",
    "         # use \"period\" instead of start/end\n",
    "         # valid periods: 1d,5d,1mo,3mo,6mo,1y,2y,5y,10y,ytd,max\n",
    "         # (optional, default is '1mo')\n",
    "         period = \"1d\",\n",
    "\n",
    "         # fetch data by interval (including intraday if period < 60 days)\n",
    "         # valid intervals: 1m,2m,5m,15m,30m,60m,90m,1h,1d,5d,1wk,1mo,3mo\n",
    "         # (optional, default is '1d')\n",
    "         interval = \"1m\",\n",
    "\n",
    "         # group by ticker (to access via data['SPY'])\n",
    "         # (optional, default is 'column')\n",
    "         group_by = 'ticker',\n",
    "\n",
    "         # adjust all OHLC automatically\n",
    "         # (optional, default is False)\n",
    "         auto_adjust = True,\n",
    "\n",
    "         # download pre/post regular market hours data\n",
    "         # (optional, default is False)\n",
    "         prepost = False,\n",
    "\n",
    "         # use threads for mass downloading? (True/False/Integer)\n",
    "         # (optional, default is True)\n",
    "         threads = True,\n",
    "\n",
    "         # proxy URL scheme use use when downloading?\n",
    "         # (optional, default is None)\n",
    "         proxy = None\n",
    "    )\n",
    "\n",
    "prices.reset_index(inplace=True)\n",
    "prices.columns = [column.lower() for column in prices.columns]"
   ]
  },
  {
   "cell_type": "code",
   "execution_count": 3,
   "metadata": {},
   "outputs": [
    {
     "data": {
      "text/html": [
       "<div>\n",
       "<style scoped>\n",
       "    .dataframe tbody tr th:only-of-type {\n",
       "        vertical-align: middle;\n",
       "    }\n",
       "\n",
       "    .dataframe tbody tr th {\n",
       "        vertical-align: top;\n",
       "    }\n",
       "\n",
       "    .dataframe thead th {\n",
       "        text-align: right;\n",
       "    }\n",
       "</style>\n",
       "<table border=\"1\" class=\"dataframe\">\n",
       "  <thead>\n",
       "    <tr style=\"text-align: right;\">\n",
       "      <th></th>\n",
       "      <th>datetime</th>\n",
       "      <th>open</th>\n",
       "      <th>high</th>\n",
       "      <th>low</th>\n",
       "      <th>close</th>\n",
       "      <th>volume</th>\n",
       "    </tr>\n",
       "  </thead>\n",
       "  <tbody>\n",
       "    <tr>\n",
       "      <th>0</th>\n",
       "      <td>2020-06-05 09:30:00-04:00</td>\n",
       "      <td>877.840027</td>\n",
       "      <td>879.400024</td>\n",
       "      <td>877.109985</td>\n",
       "      <td>877.109985</td>\n",
       "      <td>367019</td>\n",
       "    </tr>\n",
       "    <tr>\n",
       "      <th>1</th>\n",
       "      <td>2020-06-05 09:31:00-04:00</td>\n",
       "      <td>877.000000</td>\n",
       "      <td>877.424988</td>\n",
       "      <td>876.969971</td>\n",
       "      <td>877.267517</td>\n",
       "      <td>3924</td>\n",
       "    </tr>\n",
       "    <tr>\n",
       "      <th>2</th>\n",
       "      <td>2020-06-05 09:33:00-04:00</td>\n",
       "      <td>873.581421</td>\n",
       "      <td>874.259216</td>\n",
       "      <td>872.239990</td>\n",
       "      <td>873.664978</td>\n",
       "      <td>131013</td>\n",
       "    </tr>\n",
       "  </tbody>\n",
       "</table>\n",
       "</div>"
      ],
      "text/plain": [
       "                   datetime        open        high         low       close  \\\n",
       "0 2020-06-05 09:30:00-04:00  877.840027  879.400024  877.109985  877.109985   \n",
       "1 2020-06-05 09:31:00-04:00  877.000000  877.424988  876.969971  877.267517   \n",
       "2 2020-06-05 09:33:00-04:00  873.581421  874.259216  872.239990  873.664978   \n",
       "\n",
       "   volume  \n",
       "0  367019  \n",
       "1    3924  \n",
       "2  131013  "
      ]
     },
     "execution_count": 3,
     "metadata": {},
     "output_type": "execute_result"
    }
   ],
   "source": [
    "prices.head(3)"
   ]
  }
 ],
 "metadata": {
  "kernelspec": {
   "display_name": "Python 3",
   "language": "python",
   "name": "python3"
  },
  "language_info": {
   "codemirror_mode": {
    "name": "ipython",
    "version": 3
   },
   "file_extension": ".py",
   "mimetype": "text/x-python",
   "name": "python",
   "nbconvert_exporter": "python",
   "pygments_lexer": "ipython3",
   "version": "3.7.7"
  }
 },
 "nbformat": 4,
 "nbformat_minor": 4
}
