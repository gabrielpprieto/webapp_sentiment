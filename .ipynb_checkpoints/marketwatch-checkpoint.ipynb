{
 "cells": [
  {
   "cell_type": "markdown",
   "metadata": {},
   "source": [
    "## Scraping News - MarketWatch"
   ]
  },
  {
   "cell_type": "code",
   "execution_count": 1,
   "metadata": {},
   "outputs": [],
   "source": [
    "import pandas as pd\n",
    "import requests\n",
    "from bs4 import BeautifulSoup\n",
    "import time\n",
    "import random\n",
    "from tqdm import tqdm\n",
    "import psycopg2"
   ]
  },
  {
   "cell_type": "code",
   "execution_count": 2,
   "metadata": {},
   "outputs": [
    {
     "data": {
      "text/plain": [
       "200"
      ]
     },
     "execution_count": 2,
     "metadata": {},
     "output_type": "execute_result"
    }
   ],
   "source": [
    "# Set User Agent\n",
    "headers = {'User-Agent': 'Mozilla/5.0 (Macintosh; Intel Mac OS X 10_15_5) \\\n",
    "AppleWebKit/537.36 (KHTML, like Gecko) Chrome/83.0.4103.61 Safari/537.36'}\n",
    "     \n",
    "# Set Wikipedia url to scrape the table from\n",
    "url = 'https://www.marketwatch.com/latest-news'\n",
    "\n",
    "# Request from url\n",
    "res = requests.get(url, headers=headers)\n",
    "\n",
    "# Status code of res\n",
    "res.status_code"
   ]
  },
  {
   "cell_type": "code",
   "execution_count": null,
   "metadata": {},
   "outputs": [],
   "source": [
    "# Create soup object from the home page\n",
    "soup = BeautifulSoup(res.content, 'lxml')\n",
    "\n",
    "# Find all anchor tags with specific parameters\n",
    "table = soup.find(name=\"ul\", attrs={'class':\"item-list\",'id':'latest-news-list'})\n",
    "\n",
    "# Create list to house table values\n",
    "#     news = []\n",
    "\n",
    "# Loop through table rows  \n",
    "for li in table.find_all('li'):"
   ]
  }
 ],
 "metadata": {
  "kernelspec": {
   "display_name": "Python 3",
   "language": "python",
   "name": "python3"
  },
  "language_info": {
   "codemirror_mode": {
    "name": "ipython",
    "version": 3
   },
   "file_extension": ".py",
   "mimetype": "text/x-python",
   "name": "python",
   "nbconvert_exporter": "python",
   "pygments_lexer": "ipython3",
   "version": "3.7.7"
  }
 },
 "nbformat": 4,
 "nbformat_minor": 4
}
